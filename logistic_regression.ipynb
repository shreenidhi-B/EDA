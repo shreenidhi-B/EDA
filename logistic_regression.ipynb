{
  "nbformat": 4,
  "nbformat_minor": 0,
  "metadata": {
    "colab": {
      "provenance": [],
      "authorship_tag": "ABX9TyN3oF+HgCoA/zhpnIs4gAxM",
      "include_colab_link": true
    },
    "kernelspec": {
      "name": "python3",
      "display_name": "Python 3"
    },
    "language_info": {
      "name": "python"
    }
  },
  "cells": [
    {
      "cell_type": "markdown",
      "metadata": {
        "id": "view-in-github",
        "colab_type": "text"
      },
      "source": [
        "<a href=\"https://colab.research.google.com/github/shreenidhi-B/EDA/blob/main/logistic_regression.ipynb\" target=\"_parent\"><img src=\"https://colab.research.google.com/assets/colab-badge.svg\" alt=\"Open In Colab\"/></a>"
      ]
    },
    {
      "cell_type": "code",
      "execution_count": 2,
      "metadata": {
        "colab": {
          "base_uri": "https://localhost:8080/"
        },
        "id": "IE1VDAz9C2ql",
        "outputId": "74402593-a994-4eb9-a801-74538d28bfaa"
      },
      "outputs": [
        {
          "output_type": "stream",
          "name": "stdout",
          "text": [
            "Looking in indexes: https://pypi.org/simple, https://us-python.pkg.dev/colab-wheels/public/simple/\n",
            "\u001b[33mWARNING: Retrying (Retry(total=4, connect=None, read=None, redirect=None, status=None)) after connection broken by 'ConnectTimeoutError(<pip._vendor.urllib3.connection.HTTPSConnection object at 0x7fdd30f24130>, 'Connection to us-python.pkg.dev timed out. (connect timeout=15)')': /colab-wheels/public/simple/opendatasets/\u001b[0m\u001b[33m\n",
            "\u001b[0mCollecting opendatasets\n",
            "  Downloading opendatasets-0.1.22-py3-none-any.whl (15 kB)\n",
            "Requirement already satisfied: tqdm in /usr/local/lib/python3.10/dist-packages (from opendatasets) (4.65.0)\n",
            "Requirement already satisfied: kaggle in /usr/local/lib/python3.10/dist-packages (from opendatasets) (1.5.13)\n",
            "Requirement already satisfied: click in /usr/local/lib/python3.10/dist-packages (from opendatasets) (8.1.3)\n",
            "Requirement already satisfied: six>=1.10 in /usr/local/lib/python3.10/dist-packages (from kaggle->opendatasets) (1.16.0)\n",
            "Requirement already satisfied: certifi in /usr/local/lib/python3.10/dist-packages (from kaggle->opendatasets) (2022.12.7)\n",
            "Requirement already satisfied: python-dateutil in /usr/local/lib/python3.10/dist-packages (from kaggle->opendatasets) (2.8.2)\n",
            "Requirement already satisfied: requests in /usr/local/lib/python3.10/dist-packages (from kaggle->opendatasets) (2.27.1)\n",
            "Requirement already satisfied: python-slugify in /usr/local/lib/python3.10/dist-packages (from kaggle->opendatasets) (8.0.1)\n",
            "Requirement already satisfied: urllib3 in /usr/local/lib/python3.10/dist-packages (from kaggle->opendatasets) (1.26.15)\n",
            "Requirement already satisfied: text-unidecode>=1.3 in /usr/local/lib/python3.10/dist-packages (from python-slugify->kaggle->opendatasets) (1.3)\n",
            "Requirement already satisfied: charset-normalizer~=2.0.0 in /usr/local/lib/python3.10/dist-packages (from requests->kaggle->opendatasets) (2.0.12)\n",
            "Requirement already satisfied: idna<4,>=2.5 in /usr/local/lib/python3.10/dist-packages (from requests->kaggle->opendatasets) (3.4)\n",
            "Installing collected packages: opendatasets\n",
            "Successfully installed opendatasets-0.1.22\n"
          ]
        }
      ],
      "source": [
        "pip install opendatasets"
      ]
    },
    {
      "cell_type": "code",
      "source": [
        "import opendatasets as od"
      ],
      "metadata": {
        "id": "5NGNQcfDDLTa"
      },
      "execution_count": 3,
      "outputs": []
    },
    {
      "cell_type": "code",
      "source": [
        "import pandas as pd\n",
        "import numpy as np\n",
        "import matplotlib.pyplot as plt"
      ],
      "metadata": {
        "id": "L_fDo2vlDR1z"
      },
      "execution_count": 4,
      "outputs": []
    },
    {
      "cell_type": "code",
      "source": [
        "download_url='https://www.kaggle.com/datasets/rakeshrau/social-network-ads'\n",
        "od.download(download_url)"
      ],
      "metadata": {
        "colab": {
          "base_uri": "https://localhost:8080/"
        },
        "id": "My6Wyz3k3p9P",
        "outputId": "1f912342-44dd-4605-b10e-31e9631c9fa7"
      },
      "execution_count": 6,
      "outputs": [
        {
          "output_type": "stream",
          "name": "stdout",
          "text": [
            "Skipping, found downloaded files in \"./social-network-ads\" (use force=True to force download)\n"
          ]
        }
      ]
    },
    {
      "cell_type": "code",
      "source": [
        "data_filename='/content/social-network-ads/Social_Network_Ads.csv'"
      ],
      "metadata": {
        "id": "HNSKnXPQ4wry"
      },
      "execution_count": 7,
      "outputs": []
    },
    {
      "cell_type": "code",
      "source": [
        "df=pd.read_csv(data_filename)"
      ],
      "metadata": {
        "id": "TgdPynNo7fx5"
      },
      "execution_count": 8,
      "outputs": []
    },
    {
      "cell_type": "code",
      "source": [
        "df.head()"
      ],
      "metadata": {
        "colab": {
          "base_uri": "https://localhost:8080/",
          "height": 206
        },
        "id": "EIwbSa0q7rH9",
        "outputId": "2885a234-1a7a-4327-db3c-bcd2c1d1c239"
      },
      "execution_count": 9,
      "outputs": [
        {
          "output_type": "execute_result",
          "data": {
            "text/plain": [
              "    User ID  Gender  Age  EstimatedSalary  Purchased\n",
              "0  15624510    Male   19            19000          0\n",
              "1  15810944    Male   35            20000          0\n",
              "2  15668575  Female   26            43000          0\n",
              "3  15603246  Female   27            57000          0\n",
              "4  15804002    Male   19            76000          0"
            ],
            "text/html": [
              "\n",
              "  <div id=\"df-49ffa31c-0ec2-4ea9-9f21-72a22a2074d7\">\n",
              "    <div class=\"colab-df-container\">\n",
              "      <div>\n",
              "<style scoped>\n",
              "    .dataframe tbody tr th:only-of-type {\n",
              "        vertical-align: middle;\n",
              "    }\n",
              "\n",
              "    .dataframe tbody tr th {\n",
              "        vertical-align: top;\n",
              "    }\n",
              "\n",
              "    .dataframe thead th {\n",
              "        text-align: right;\n",
              "    }\n",
              "</style>\n",
              "<table border=\"1\" class=\"dataframe\">\n",
              "  <thead>\n",
              "    <tr style=\"text-align: right;\">\n",
              "      <th></th>\n",
              "      <th>User ID</th>\n",
              "      <th>Gender</th>\n",
              "      <th>Age</th>\n",
              "      <th>EstimatedSalary</th>\n",
              "      <th>Purchased</th>\n",
              "    </tr>\n",
              "  </thead>\n",
              "  <tbody>\n",
              "    <tr>\n",
              "      <th>0</th>\n",
              "      <td>15624510</td>\n",
              "      <td>Male</td>\n",
              "      <td>19</td>\n",
              "      <td>19000</td>\n",
              "      <td>0</td>\n",
              "    </tr>\n",
              "    <tr>\n",
              "      <th>1</th>\n",
              "      <td>15810944</td>\n",
              "      <td>Male</td>\n",
              "      <td>35</td>\n",
              "      <td>20000</td>\n",
              "      <td>0</td>\n",
              "    </tr>\n",
              "    <tr>\n",
              "      <th>2</th>\n",
              "      <td>15668575</td>\n",
              "      <td>Female</td>\n",
              "      <td>26</td>\n",
              "      <td>43000</td>\n",
              "      <td>0</td>\n",
              "    </tr>\n",
              "    <tr>\n",
              "      <th>3</th>\n",
              "      <td>15603246</td>\n",
              "      <td>Female</td>\n",
              "      <td>27</td>\n",
              "      <td>57000</td>\n",
              "      <td>0</td>\n",
              "    </tr>\n",
              "    <tr>\n",
              "      <th>4</th>\n",
              "      <td>15804002</td>\n",
              "      <td>Male</td>\n",
              "      <td>19</td>\n",
              "      <td>76000</td>\n",
              "      <td>0</td>\n",
              "    </tr>\n",
              "  </tbody>\n",
              "</table>\n",
              "</div>\n",
              "      <button class=\"colab-df-convert\" onclick=\"convertToInteractive('df-49ffa31c-0ec2-4ea9-9f21-72a22a2074d7')\"\n",
              "              title=\"Convert this dataframe to an interactive table.\"\n",
              "              style=\"display:none;\">\n",
              "        \n",
              "  <svg xmlns=\"http://www.w3.org/2000/svg\" height=\"24px\"viewBox=\"0 0 24 24\"\n",
              "       width=\"24px\">\n",
              "    <path d=\"M0 0h24v24H0V0z\" fill=\"none\"/>\n",
              "    <path d=\"M18.56 5.44l.94 2.06.94-2.06 2.06-.94-2.06-.94-.94-2.06-.94 2.06-2.06.94zm-11 1L8.5 8.5l.94-2.06 2.06-.94-2.06-.94L8.5 2.5l-.94 2.06-2.06.94zm10 10l.94 2.06.94-2.06 2.06-.94-2.06-.94-.94-2.06-.94 2.06-2.06.94z\"/><path d=\"M17.41 7.96l-1.37-1.37c-.4-.4-.92-.59-1.43-.59-.52 0-1.04.2-1.43.59L10.3 9.45l-7.72 7.72c-.78.78-.78 2.05 0 2.83L4 21.41c.39.39.9.59 1.41.59.51 0 1.02-.2 1.41-.59l7.78-7.78 2.81-2.81c.8-.78.8-2.07 0-2.86zM5.41 20L4 18.59l7.72-7.72 1.47 1.35L5.41 20z\"/>\n",
              "  </svg>\n",
              "      </button>\n",
              "      \n",
              "  <style>\n",
              "    .colab-df-container {\n",
              "      display:flex;\n",
              "      flex-wrap:wrap;\n",
              "      gap: 12px;\n",
              "    }\n",
              "\n",
              "    .colab-df-convert {\n",
              "      background-color: #E8F0FE;\n",
              "      border: none;\n",
              "      border-radius: 50%;\n",
              "      cursor: pointer;\n",
              "      display: none;\n",
              "      fill: #1967D2;\n",
              "      height: 32px;\n",
              "      padding: 0 0 0 0;\n",
              "      width: 32px;\n",
              "    }\n",
              "\n",
              "    .colab-df-convert:hover {\n",
              "      background-color: #E2EBFA;\n",
              "      box-shadow: 0px 1px 2px rgba(60, 64, 67, 0.3), 0px 1px 3px 1px rgba(60, 64, 67, 0.15);\n",
              "      fill: #174EA6;\n",
              "    }\n",
              "\n",
              "    [theme=dark] .colab-df-convert {\n",
              "      background-color: #3B4455;\n",
              "      fill: #D2E3FC;\n",
              "    }\n",
              "\n",
              "    [theme=dark] .colab-df-convert:hover {\n",
              "      background-color: #434B5C;\n",
              "      box-shadow: 0px 1px 3px 1px rgba(0, 0, 0, 0.15);\n",
              "      filter: drop-shadow(0px 1px 2px rgba(0, 0, 0, 0.3));\n",
              "      fill: #FFFFFF;\n",
              "    }\n",
              "  </style>\n",
              "\n",
              "      <script>\n",
              "        const buttonEl =\n",
              "          document.querySelector('#df-49ffa31c-0ec2-4ea9-9f21-72a22a2074d7 button.colab-df-convert');\n",
              "        buttonEl.style.display =\n",
              "          google.colab.kernel.accessAllowed ? 'block' : 'none';\n",
              "\n",
              "        async function convertToInteractive(key) {\n",
              "          const element = document.querySelector('#df-49ffa31c-0ec2-4ea9-9f21-72a22a2074d7');\n",
              "          const dataTable =\n",
              "            await google.colab.kernel.invokeFunction('convertToInteractive',\n",
              "                                                     [key], {});\n",
              "          if (!dataTable) return;\n",
              "\n",
              "          const docLinkHtml = 'Like what you see? Visit the ' +\n",
              "            '<a target=\"_blank\" href=https://colab.research.google.com/notebooks/data_table.ipynb>data table notebook</a>'\n",
              "            + ' to learn more about interactive tables.';\n",
              "          element.innerHTML = '';\n",
              "          dataTable['output_type'] = 'display_data';\n",
              "          await google.colab.output.renderOutput(dataTable, element);\n",
              "          const docLink = document.createElement('div');\n",
              "          docLink.innerHTML = docLinkHtml;\n",
              "          element.appendChild(docLink);\n",
              "        }\n",
              "      </script>\n",
              "    </div>\n",
              "  </div>\n",
              "  "
            ]
          },
          "metadata": {},
          "execution_count": 9
        }
      ]
    },
    {
      "cell_type": "code",
      "source": [
        "df.shape"
      ],
      "metadata": {
        "colab": {
          "base_uri": "https://localhost:8080/"
        },
        "id": "Jb2qiG-d8t_X",
        "outputId": "022160c5-9fbe-471a-e05b-169d860dad38"
      },
      "execution_count": 10,
      "outputs": [
        {
          "output_type": "execute_result",
          "data": {
            "text/plain": [
              "(400, 5)"
            ]
          },
          "metadata": {},
          "execution_count": 10
        }
      ]
    },
    {
      "cell_type": "code",
      "source": [
        "df.info()"
      ],
      "metadata": {
        "colab": {
          "base_uri": "https://localhost:8080/"
        },
        "id": "QwXNFopO8ztc",
        "outputId": "0b48d479-bea7-4895-9e60-80740f99c06f"
      },
      "execution_count": 11,
      "outputs": [
        {
          "output_type": "stream",
          "name": "stdout",
          "text": [
            "<class 'pandas.core.frame.DataFrame'>\n",
            "RangeIndex: 400 entries, 0 to 399\n",
            "Data columns (total 5 columns):\n",
            " #   Column           Non-Null Count  Dtype \n",
            "---  ------           --------------  ----- \n",
            " 0   User ID          400 non-null    int64 \n",
            " 1   Gender           400 non-null    object\n",
            " 2   Age              400 non-null    int64 \n",
            " 3   EstimatedSalary  400 non-null    int64 \n",
            " 4   Purchased        400 non-null    int64 \n",
            "dtypes: int64(4), object(1)\n",
            "memory usage: 15.8+ KB\n"
          ]
        }
      ]
    },
    {
      "cell_type": "code",
      "source": [
        "df.Purchased.value_counts()"
      ],
      "metadata": {
        "colab": {
          "base_uri": "https://localhost:8080/"
        },
        "id": "l7rb9i4e83Ld",
        "outputId": "79aa28d5-87a7-42df-b535-36a250e661f5"
      },
      "execution_count": 12,
      "outputs": [
        {
          "output_type": "execute_result",
          "data": {
            "text/plain": [
              "0    257\n",
              "1    143\n",
              "Name: Purchased, dtype: int64"
            ]
          },
          "metadata": {},
          "execution_count": 12
        }
      ]
    },
    {
      "cell_type": "code",
      "source": [
        "x=df.iloc[:,[2,3]].values\n",
        "y=df.iloc[:,4].values"
      ],
      "metadata": {
        "id": "7Vv5in1W9B5O"
      },
      "execution_count": 13,
      "outputs": []
    },
    {
      "cell_type": "code",
      "source": [
        "x"
      ],
      "metadata": {
        "colab": {
          "base_uri": "https://localhost:8080/"
        },
        "id": "TQFumjvN9Sp7",
        "outputId": "889d0e29-f4c1-495d-ac1b-dfc6a5c13c59"
      },
      "execution_count": 14,
      "outputs": [
        {
          "output_type": "execute_result",
          "data": {
            "text/plain": [
              "array([[    19,  19000],\n",
              "       [    35,  20000],\n",
              "       [    26,  43000],\n",
              "       [    27,  57000],\n",
              "       [    19,  76000],\n",
              "       [    27,  58000],\n",
              "       [    27,  84000],\n",
              "       [    32, 150000],\n",
              "       [    25,  33000],\n",
              "       [    35,  65000],\n",
              "       [    26,  80000],\n",
              "       [    26,  52000],\n",
              "       [    20,  86000],\n",
              "       [    32,  18000],\n",
              "       [    18,  82000],\n",
              "       [    29,  80000],\n",
              "       [    47,  25000],\n",
              "       [    45,  26000],\n",
              "       [    46,  28000],\n",
              "       [    48,  29000],\n",
              "       [    45,  22000],\n",
              "       [    47,  49000],\n",
              "       [    48,  41000],\n",
              "       [    45,  22000],\n",
              "       [    46,  23000],\n",
              "       [    47,  20000],\n",
              "       [    49,  28000],\n",
              "       [    47,  30000],\n",
              "       [    29,  43000],\n",
              "       [    31,  18000],\n",
              "       [    31,  74000],\n",
              "       [    27, 137000],\n",
              "       [    21,  16000],\n",
              "       [    28,  44000],\n",
              "       [    27,  90000],\n",
              "       [    35,  27000],\n",
              "       [    33,  28000],\n",
              "       [    30,  49000],\n",
              "       [    26,  72000],\n",
              "       [    27,  31000],\n",
              "       [    27,  17000],\n",
              "       [    33,  51000],\n",
              "       [    35, 108000],\n",
              "       [    30,  15000],\n",
              "       [    28,  84000],\n",
              "       [    23,  20000],\n",
              "       [    25,  79000],\n",
              "       [    27,  54000],\n",
              "       [    30, 135000],\n",
              "       [    31,  89000],\n",
              "       [    24,  32000],\n",
              "       [    18,  44000],\n",
              "       [    29,  83000],\n",
              "       [    35,  23000],\n",
              "       [    27,  58000],\n",
              "       [    24,  55000],\n",
              "       [    23,  48000],\n",
              "       [    28,  79000],\n",
              "       [    22,  18000],\n",
              "       [    32, 117000],\n",
              "       [    27,  20000],\n",
              "       [    25,  87000],\n",
              "       [    23,  66000],\n",
              "       [    32, 120000],\n",
              "       [    59,  83000],\n",
              "       [    24,  58000],\n",
              "       [    24,  19000],\n",
              "       [    23,  82000],\n",
              "       [    22,  63000],\n",
              "       [    31,  68000],\n",
              "       [    25,  80000],\n",
              "       [    24,  27000],\n",
              "       [    20,  23000],\n",
              "       [    33, 113000],\n",
              "       [    32,  18000],\n",
              "       [    34, 112000],\n",
              "       [    18,  52000],\n",
              "       [    22,  27000],\n",
              "       [    28,  87000],\n",
              "       [    26,  17000],\n",
              "       [    30,  80000],\n",
              "       [    39,  42000],\n",
              "       [    20,  49000],\n",
              "       [    35,  88000],\n",
              "       [    30,  62000],\n",
              "       [    31, 118000],\n",
              "       [    24,  55000],\n",
              "       [    28,  85000],\n",
              "       [    26,  81000],\n",
              "       [    35,  50000],\n",
              "       [    22,  81000],\n",
              "       [    30, 116000],\n",
              "       [    26,  15000],\n",
              "       [    29,  28000],\n",
              "       [    29,  83000],\n",
              "       [    35,  44000],\n",
              "       [    35,  25000],\n",
              "       [    28, 123000],\n",
              "       [    35,  73000],\n",
              "       [    28,  37000],\n",
              "       [    27,  88000],\n",
              "       [    28,  59000],\n",
              "       [    32,  86000],\n",
              "       [    33, 149000],\n",
              "       [    19,  21000],\n",
              "       [    21,  72000],\n",
              "       [    26,  35000],\n",
              "       [    27,  89000],\n",
              "       [    26,  86000],\n",
              "       [    38,  80000],\n",
              "       [    39,  71000],\n",
              "       [    37,  71000],\n",
              "       [    38,  61000],\n",
              "       [    37,  55000],\n",
              "       [    42,  80000],\n",
              "       [    40,  57000],\n",
              "       [    35,  75000],\n",
              "       [    36,  52000],\n",
              "       [    40,  59000],\n",
              "       [    41,  59000],\n",
              "       [    36,  75000],\n",
              "       [    37,  72000],\n",
              "       [    40,  75000],\n",
              "       [    35,  53000],\n",
              "       [    41,  51000],\n",
              "       [    39,  61000],\n",
              "       [    42,  65000],\n",
              "       [    26,  32000],\n",
              "       [    30,  17000],\n",
              "       [    26,  84000],\n",
              "       [    31,  58000],\n",
              "       [    33,  31000],\n",
              "       [    30,  87000],\n",
              "       [    21,  68000],\n",
              "       [    28,  55000],\n",
              "       [    23,  63000],\n",
              "       [    20,  82000],\n",
              "       [    30, 107000],\n",
              "       [    28,  59000],\n",
              "       [    19,  25000],\n",
              "       [    19,  85000],\n",
              "       [    18,  68000],\n",
              "       [    35,  59000],\n",
              "       [    30,  89000],\n",
              "       [    34,  25000],\n",
              "       [    24,  89000],\n",
              "       [    27,  96000],\n",
              "       [    41,  30000],\n",
              "       [    29,  61000],\n",
              "       [    20,  74000],\n",
              "       [    26,  15000],\n",
              "       [    41,  45000],\n",
              "       [    31,  76000],\n",
              "       [    36,  50000],\n",
              "       [    40,  47000],\n",
              "       [    31,  15000],\n",
              "       [    46,  59000],\n",
              "       [    29,  75000],\n",
              "       [    26,  30000],\n",
              "       [    32, 135000],\n",
              "       [    32, 100000],\n",
              "       [    25,  90000],\n",
              "       [    37,  33000],\n",
              "       [    35,  38000],\n",
              "       [    33,  69000],\n",
              "       [    18,  86000],\n",
              "       [    22,  55000],\n",
              "       [    35,  71000],\n",
              "       [    29, 148000],\n",
              "       [    29,  47000],\n",
              "       [    21,  88000],\n",
              "       [    34, 115000],\n",
              "       [    26, 118000],\n",
              "       [    34,  43000],\n",
              "       [    34,  72000],\n",
              "       [    23,  28000],\n",
              "       [    35,  47000],\n",
              "       [    25,  22000],\n",
              "       [    24,  23000],\n",
              "       [    31,  34000],\n",
              "       [    26,  16000],\n",
              "       [    31,  71000],\n",
              "       [    32, 117000],\n",
              "       [    33,  43000],\n",
              "       [    33,  60000],\n",
              "       [    31,  66000],\n",
              "       [    20,  82000],\n",
              "       [    33,  41000],\n",
              "       [    35,  72000],\n",
              "       [    28,  32000],\n",
              "       [    24,  84000],\n",
              "       [    19,  26000],\n",
              "       [    29,  43000],\n",
              "       [    19,  70000],\n",
              "       [    28,  89000],\n",
              "       [    34,  43000],\n",
              "       [    30,  79000],\n",
              "       [    20,  36000],\n",
              "       [    26,  80000],\n",
              "       [    35,  22000],\n",
              "       [    35,  39000],\n",
              "       [    49,  74000],\n",
              "       [    39, 134000],\n",
              "       [    41,  71000],\n",
              "       [    58, 101000],\n",
              "       [    47,  47000],\n",
              "       [    55, 130000],\n",
              "       [    52, 114000],\n",
              "       [    40, 142000],\n",
              "       [    46,  22000],\n",
              "       [    48,  96000],\n",
              "       [    52, 150000],\n",
              "       [    59,  42000],\n",
              "       [    35,  58000],\n",
              "       [    47,  43000],\n",
              "       [    60, 108000],\n",
              "       [    49,  65000],\n",
              "       [    40,  78000],\n",
              "       [    46,  96000],\n",
              "       [    59, 143000],\n",
              "       [    41,  80000],\n",
              "       [    35,  91000],\n",
              "       [    37, 144000],\n",
              "       [    60, 102000],\n",
              "       [    35,  60000],\n",
              "       [    37,  53000],\n",
              "       [    36, 126000],\n",
              "       [    56, 133000],\n",
              "       [    40,  72000],\n",
              "       [    42,  80000],\n",
              "       [    35, 147000],\n",
              "       [    39,  42000],\n",
              "       [    40, 107000],\n",
              "       [    49,  86000],\n",
              "       [    38, 112000],\n",
              "       [    46,  79000],\n",
              "       [    40,  57000],\n",
              "       [    37,  80000],\n",
              "       [    46,  82000],\n",
              "       [    53, 143000],\n",
              "       [    42, 149000],\n",
              "       [    38,  59000],\n",
              "       [    50,  88000],\n",
              "       [    56, 104000],\n",
              "       [    41,  72000],\n",
              "       [    51, 146000],\n",
              "       [    35,  50000],\n",
              "       [    57, 122000],\n",
              "       [    41,  52000],\n",
              "       [    35,  97000],\n",
              "       [    44,  39000],\n",
              "       [    37,  52000],\n",
              "       [    48, 134000],\n",
              "       [    37, 146000],\n",
              "       [    50,  44000],\n",
              "       [    52,  90000],\n",
              "       [    41,  72000],\n",
              "       [    40,  57000],\n",
              "       [    58,  95000],\n",
              "       [    45, 131000],\n",
              "       [    35,  77000],\n",
              "       [    36, 144000],\n",
              "       [    55, 125000],\n",
              "       [    35,  72000],\n",
              "       [    48,  90000],\n",
              "       [    42, 108000],\n",
              "       [    40,  75000],\n",
              "       [    37,  74000],\n",
              "       [    47, 144000],\n",
              "       [    40,  61000],\n",
              "       [    43, 133000],\n",
              "       [    59,  76000],\n",
              "       [    60,  42000],\n",
              "       [    39, 106000],\n",
              "       [    57,  26000],\n",
              "       [    57,  74000],\n",
              "       [    38,  71000],\n",
              "       [    49,  88000],\n",
              "       [    52,  38000],\n",
              "       [    50,  36000],\n",
              "       [    59,  88000],\n",
              "       [    35,  61000],\n",
              "       [    37,  70000],\n",
              "       [    52,  21000],\n",
              "       [    48, 141000],\n",
              "       [    37,  93000],\n",
              "       [    37,  62000],\n",
              "       [    48, 138000],\n",
              "       [    41,  79000],\n",
              "       [    37,  78000],\n",
              "       [    39, 134000],\n",
              "       [    49,  89000],\n",
              "       [    55,  39000],\n",
              "       [    37,  77000],\n",
              "       [    35,  57000],\n",
              "       [    36,  63000],\n",
              "       [    42,  73000],\n",
              "       [    43, 112000],\n",
              "       [    45,  79000],\n",
              "       [    46, 117000],\n",
              "       [    58,  38000],\n",
              "       [    48,  74000],\n",
              "       [    37, 137000],\n",
              "       [    37,  79000],\n",
              "       [    40,  60000],\n",
              "       [    42,  54000],\n",
              "       [    51, 134000],\n",
              "       [    47, 113000],\n",
              "       [    36, 125000],\n",
              "       [    38,  50000],\n",
              "       [    42,  70000],\n",
              "       [    39,  96000],\n",
              "       [    38,  50000],\n",
              "       [    49, 141000],\n",
              "       [    39,  79000],\n",
              "       [    39,  75000],\n",
              "       [    54, 104000],\n",
              "       [    35,  55000],\n",
              "       [    45,  32000],\n",
              "       [    36,  60000],\n",
              "       [    52, 138000],\n",
              "       [    53,  82000],\n",
              "       [    41,  52000],\n",
              "       [    48,  30000],\n",
              "       [    48, 131000],\n",
              "       [    41,  60000],\n",
              "       [    41,  72000],\n",
              "       [    42,  75000],\n",
              "       [    36, 118000],\n",
              "       [    47, 107000],\n",
              "       [    38,  51000],\n",
              "       [    48, 119000],\n",
              "       [    42,  65000],\n",
              "       [    40,  65000],\n",
              "       [    57,  60000],\n",
              "       [    36,  54000],\n",
              "       [    58, 144000],\n",
              "       [    35,  79000],\n",
              "       [    38,  55000],\n",
              "       [    39, 122000],\n",
              "       [    53, 104000],\n",
              "       [    35,  75000],\n",
              "       [    38,  65000],\n",
              "       [    47,  51000],\n",
              "       [    47, 105000],\n",
              "       [    41,  63000],\n",
              "       [    53,  72000],\n",
              "       [    54, 108000],\n",
              "       [    39,  77000],\n",
              "       [    38,  61000],\n",
              "       [    38, 113000],\n",
              "       [    37,  75000],\n",
              "       [    42,  90000],\n",
              "       [    37,  57000],\n",
              "       [    36,  99000],\n",
              "       [    60,  34000],\n",
              "       [    54,  70000],\n",
              "       [    41,  72000],\n",
              "       [    40,  71000],\n",
              "       [    42,  54000],\n",
              "       [    43, 129000],\n",
              "       [    53,  34000],\n",
              "       [    47,  50000],\n",
              "       [    42,  79000],\n",
              "       [    42, 104000],\n",
              "       [    59,  29000],\n",
              "       [    58,  47000],\n",
              "       [    46,  88000],\n",
              "       [    38,  71000],\n",
              "       [    54,  26000],\n",
              "       [    60,  46000],\n",
              "       [    60,  83000],\n",
              "       [    39,  73000],\n",
              "       [    59, 130000],\n",
              "       [    37,  80000],\n",
              "       [    46,  32000],\n",
              "       [    46,  74000],\n",
              "       [    42,  53000],\n",
              "       [    41,  87000],\n",
              "       [    58,  23000],\n",
              "       [    42,  64000],\n",
              "       [    48,  33000],\n",
              "       [    44, 139000],\n",
              "       [    49,  28000],\n",
              "       [    57,  33000],\n",
              "       [    56,  60000],\n",
              "       [    49,  39000],\n",
              "       [    39,  71000],\n",
              "       [    47,  34000],\n",
              "       [    48,  35000],\n",
              "       [    48,  33000],\n",
              "       [    47,  23000],\n",
              "       [    45,  45000],\n",
              "       [    60,  42000],\n",
              "       [    39,  59000],\n",
              "       [    46,  41000],\n",
              "       [    51,  23000],\n",
              "       [    50,  20000],\n",
              "       [    36,  33000],\n",
              "       [    49,  36000]])"
            ]
          },
          "metadata": {},
          "execution_count": 14
        }
      ]
    },
    {
      "cell_type": "code",
      "source": [
        "y"
      ],
      "metadata": {
        "colab": {
          "base_uri": "https://localhost:8080/"
        },
        "id": "UmJpcOwv91jA",
        "outputId": "9432af83-f1e2-436c-facb-700936010c44"
      },
      "execution_count": 15,
      "outputs": [
        {
          "output_type": "execute_result",
          "data": {
            "text/plain": [
              "array([0, 0, 0, 0, 0, 0, 0, 1, 0, 0, 0, 0, 0, 0, 0, 0, 1, 1, 1, 1, 1, 1,\n",
              "       1, 1, 1, 1, 1, 1, 0, 0, 0, 1, 0, 0, 0, 0, 0, 0, 0, 0, 0, 0, 0, 0,\n",
              "       0, 0, 0, 0, 1, 0, 0, 0, 0, 0, 0, 0, 0, 0, 0, 0, 0, 0, 0, 1, 0, 0,\n",
              "       0, 0, 0, 0, 0, 0, 0, 0, 0, 1, 0, 0, 0, 0, 0, 0, 0, 0, 0, 1, 0, 0,\n",
              "       0, 0, 0, 0, 0, 0, 0, 0, 0, 1, 0, 0, 0, 0, 0, 1, 0, 0, 0, 0, 0, 0,\n",
              "       0, 0, 0, 0, 0, 0, 0, 0, 0, 0, 0, 0, 0, 0, 0, 0, 0, 0, 0, 0, 0, 0,\n",
              "       0, 0, 0, 0, 0, 1, 0, 0, 0, 0, 0, 0, 0, 0, 1, 0, 0, 0, 0, 0, 0, 0,\n",
              "       0, 0, 0, 0, 0, 1, 1, 0, 0, 0, 0, 0, 0, 0, 1, 0, 0, 0, 0, 0, 0, 0,\n",
              "       0, 0, 0, 0, 0, 0, 1, 0, 0, 0, 0, 0, 0, 0, 0, 0, 0, 0, 0, 0, 0, 0,\n",
              "       0, 0, 0, 0, 1, 0, 1, 0, 1, 0, 1, 0, 1, 1, 0, 0, 0, 1, 0, 0, 0, 1,\n",
              "       0, 1, 1, 1, 0, 0, 1, 1, 0, 1, 1, 0, 1, 1, 0, 1, 0, 0, 0, 1, 1, 0,\n",
              "       1, 1, 0, 1, 0, 1, 0, 1, 0, 0, 1, 1, 0, 1, 0, 0, 1, 1, 0, 1, 1, 0,\n",
              "       1, 1, 0, 0, 1, 0, 0, 1, 1, 1, 1, 1, 0, 1, 1, 1, 1, 0, 1, 1, 0, 1,\n",
              "       0, 1, 0, 1, 1, 1, 1, 0, 0, 0, 1, 1, 0, 1, 1, 1, 1, 1, 0, 0, 0, 1,\n",
              "       1, 0, 0, 1, 0, 1, 0, 1, 1, 0, 1, 0, 1, 1, 0, 1, 1, 0, 0, 0, 1, 1,\n",
              "       0, 1, 0, 0, 1, 0, 1, 0, 0, 1, 1, 0, 0, 1, 1, 0, 1, 1, 0, 0, 1, 0,\n",
              "       1, 0, 1, 1, 1, 0, 1, 0, 1, 1, 1, 0, 1, 1, 1, 1, 0, 1, 1, 1, 0, 1,\n",
              "       0, 1, 0, 0, 1, 1, 0, 1, 1, 1, 1, 1, 1, 0, 1, 1, 1, 1, 1, 1, 0, 1,\n",
              "       1, 1, 0, 1])"
            ]
          },
          "metadata": {},
          "execution_count": 15
        }
      ]
    },
    {
      "cell_type": "code",
      "source": [
        "from sklearn.model_selection import train_test_split\n",
        "X_train,X_test,y_train,y_test=train_test_split(x,y,test_size=0.2,random_state=42)"
      ],
      "metadata": {
        "id": "IR53QyLM93v3"
      },
      "execution_count": 16,
      "outputs": []
    },
    {
      "cell_type": "code",
      "source": [
        "print(X_train.shape,X_test.shape,y_train.shape,y_test.shape)"
      ],
      "metadata": {
        "colab": {
          "base_uri": "https://localhost:8080/"
        },
        "id": "Z014aTFz_hBw",
        "outputId": "ca68c165-3d1b-4486-d115-71dcc2007d03"
      },
      "execution_count": 17,
      "outputs": [
        {
          "output_type": "stream",
          "name": "stdout",
          "text": [
            "(320, 2) (80, 2) (320,) (80,)\n"
          ]
        }
      ]
    },
    {
      "cell_type": "code",
      "source": [
        "from sklearn.preprocessing import StandardScaler\n",
        "sc_x=StandardScaler()\n",
        "xtrain=sc_x.fit_transform(X_train)\n",
        "xtest=sc_x.transform(X_test)"
      ],
      "metadata": {
        "id": "KmG8aYZ__x_c"
      },
      "execution_count": 18,
      "outputs": []
    },
    {
      "cell_type": "code",
      "source": [
        "xtrain"
      ],
      "metadata": {
        "colab": {
          "base_uri": "https://localhost:8080/"
        },
        "id": "PTRbN9AZAr7I",
        "outputId": "e9742382-72d9-443e-ac35-8d5bee70d28a"
      },
      "execution_count": 19,
      "outputs": [
        {
          "output_type": "execute_result",
          "data": {
            "text/plain": [
              "array([[-1.06675246, -0.38634438],\n",
              "       [ 0.79753468, -1.22993871],\n",
              "       [ 0.11069205,  1.853544  ],\n",
              "       [ 0.60129393, -0.90995465],\n",
              "       [ 1.87685881, -1.28811763],\n",
              "       [-0.57615058,  1.44629156],\n",
              "       [ 0.3069328 , -0.53179168],\n",
              "       [ 0.99377543,  0.10817643],\n",
              "       [-1.16487283,  0.45724994],\n",
              "       [-1.55735433,  0.31180264],\n",
              "       [ 1.0918958 ,  0.45724994],\n",
              "       [-0.18366908, -0.47361276],\n",
              "       [ 0.20881242, -0.32816546],\n",
              "       [ 0.3069328 ,  0.28271318],\n",
              "       [-1.16487283, -1.57901222],\n",
              "       [ 0.11069205,  0.25362372],\n",
              "       [ 2.07309956,  1.73718616],\n",
              "       [ 0.40505317, -0.18271817],\n",
              "       [ 1.4843773 ,  2.11534913],\n",
              "       [-0.37990983,  1.21357589],\n",
              "       [ 1.87685881,  1.50447048],\n",
              "       [ 0.11069205,  0.02090805],\n",
              "       [ 0.89565505, -1.31720709],\n",
              "       [-1.36111358, -1.49174384],\n",
              "       [-0.18366908, -0.5899706 ],\n",
              "       [-0.57615058,  2.31897535],\n",
              "       [ 0.99377543, -1.20084925],\n",
              "       [-0.77239133,  1.06812859],\n",
              "       [ 2.17121993, -1.05540195],\n",
              "       [ 0.01257167, -0.26998655],\n",
              "       [-0.4780302 , -1.14267033],\n",
              "       [ 0.11069205,  0.02090805],\n",
              "       [ 1.68061805, -0.90995465],\n",
              "       [ 1.0918958 , -0.90995465],\n",
              "       [ 0.50317355,  1.21357589],\n",
              "       [-1.06675246, -1.46265438],\n",
              "       [-1.16487283, -1.54992276],\n",
              "       [-0.0855487 ,  0.66087616],\n",
              "       [ 0.40505317, -0.47361276],\n",
              "       [-0.28178945, -0.26998655],\n",
              "       [-0.87051171,  0.13726589],\n",
              "       [ 0.01257167,  0.28271318],\n",
              "       [ 0.6994143 , -1.28811763],\n",
              "       [ 1.58249768,  1.09721805],\n",
              "       [ 0.79753468, -1.37538601],\n",
              "       [-1.45923396, -1.22993871],\n",
              "       [-0.0855487 ,  0.13726589],\n",
              "       [ 0.40505317, -0.15362871],\n",
              "       [-0.28178945,  0.02090805],\n",
              "       [ 1.28813655,  2.20261751],\n",
              "       [ 0.11069205,  0.74814454],\n",
              "       [-1.36111358,  0.54451832],\n",
              "       [ 1.97497918,  0.71905508],\n",
              "       [-1.26299321, -1.40447546],\n",
              "       [ 0.3069328 , -0.32816546],\n",
              "       [-0.96863208,  0.54451832],\n",
              "       [ 0.40505317,  0.28271318],\n",
              "       [ 0.40505317,  1.09721805],\n",
              "       [ 0.79753468,  0.74814454],\n",
              "       [ 0.89565505,  1.24266535],\n",
              "       [-0.4780302 , -1.22993871],\n",
              "       [-1.85171546, -1.31720709],\n",
              "       [ 1.0918958 ,  0.54451832],\n",
              "       [-0.67427095, -1.60810168],\n",
              "       [-0.77239133,  0.25362372],\n",
              "       [ 0.99377543,  2.05717021],\n",
              "       [-0.57615058,  1.35902318],\n",
              "       [-0.0855487 ,  0.02090805],\n",
              "       [-1.94983583,  0.45724994],\n",
              "       [ 0.40505317,  0.25362372],\n",
              "       [-1.06675246,  0.39907102],\n",
              "       [ 0.20881242, -0.15362871],\n",
              "       [ 1.87685881,  0.10817643],\n",
              "       [-1.16487283, -1.60810168],\n",
              "       [-1.16487283,  0.28271318],\n",
              "       [-0.87051171, -0.79359682],\n",
              "       [-0.4780302 ,  2.28988589],\n",
              "       [ 0.11069205, -0.82268628],\n",
              "       [ 1.58249768,  0.98086021],\n",
              "       [-0.18366908, -1.08449141],\n",
              "       [ 0.79753468, -1.11358087],\n",
              "       [ 0.20881242,  2.08625967],\n",
              "       [-0.0855487 , -0.24089709],\n",
              "       [-0.87051171,  2.26079643],\n",
              "       [-0.0855487 , -0.38634438],\n",
              "       [-0.28178945, -0.5899706 ],\n",
              "       [ 0.40505317, -0.50270222],\n",
              "       [-0.28178945, -0.93904411],\n",
              "       [ 0.3069328 , -1.17175979],\n",
              "       [ 0.20881242,  0.04999751],\n",
              "       [-1.16487283, -1.60810168],\n",
              "       [-0.67427095, -0.06636033],\n",
              "       [-0.28178945, -0.50270222],\n",
              "       [-0.28178945, -1.31720709],\n",
              "       [-0.77239133,  0.54451832],\n",
              "       [ 0.3069328 ,  0.04999751],\n",
              "       [-0.96863208,  1.53355994],\n",
              "       [ 0.79753468,  0.3408921 ],\n",
              "       [-1.55735433, -0.21180763],\n",
              "       [ 0.6994143 , -1.40447546],\n",
              "       [-0.77239133, -0.61906006],\n",
              "       [-0.37990983, -1.31720709],\n",
              "       [ 0.20881242,  0.13726589],\n",
              "       [-0.57615058,  1.35902318],\n",
              "       [-1.45923396,  0.3408921 ],\n",
              "       [-1.16487283,  0.28271318],\n",
              "       [ 0.99377543,  1.76627562],\n",
              "       [ 2.07309956,  2.11534913],\n",
              "       [-0.28178945, -0.4445233 ],\n",
              "       [-0.37990983, -0.79359682],\n",
              "       [ 0.11069205, -0.26998655],\n",
              "       [-1.06675246,  0.74814454],\n",
              "       [ 2.17121993,  0.36998156],\n",
              "       [-1.36111358, -0.4445233 ],\n",
              "       [ 1.97497918,  2.14443859],\n",
              "       [ 1.4843773 ,  0.98086021],\n",
              "       [-0.28178945,  0.25362372],\n",
              "       [-0.18366908,  0.83541291],\n",
              "       [ 1.87685881, -0.29907601],\n",
              "       [-0.0855487 ,  1.94081237],\n",
              "       [-0.4780302 , -0.79359682],\n",
              "       [ 0.3069328 ,  0.02090805],\n",
              "       [ 1.38625693, -1.43356492],\n",
              "       [ 1.38625693,  2.31897535],\n",
              "       [-0.0855487 , -0.00818141],\n",
              "       [-1.16487283,  0.39907102],\n",
              "       [-1.16487283,  0.04999751],\n",
              "       [-1.16487283, -0.53179168],\n",
              "       [ 0.3069328 , -0.29907601],\n",
              "       [-0.67427095, -0.12453925],\n",
              "       [-0.0855487 ,  2.14443859],\n",
              "       [ 0.01257167, -0.26998655],\n",
              "       [-0.67427095, -1.05540195],\n",
              "       [ 0.40505317,  0.13726589],\n",
              "       [ 0.79753468,  1.35902318],\n",
              "       [-0.18366908, -0.53179168],\n",
              "       [ 0.01257167,  0.02090805],\n",
              "       [ 1.0918958 ,  0.51542886],\n",
              "       [ 1.87685881, -1.08449141],\n",
              "       [ 0.99377543,  1.96990183],\n",
              "       [ 0.89565505, -0.5899706 ],\n",
              "       [-0.4780302 , -0.03727087],\n",
              "       [-0.0855487 ,  2.20261751],\n",
              "       [-1.75359508,  0.3408921 ],\n",
              "       [ 0.20881242, -0.67723898],\n",
              "       [-0.28178945, -1.40447546],\n",
              "       [-1.75359508, -0.99722303],\n",
              "       [ 0.6994143 , -0.7354179 ],\n",
              "       [-1.16487283, -0.79359682],\n",
              "       [ 1.97497918,  0.89359183],\n",
              "       [ 0.20881242, -0.38634438],\n",
              "       [ 0.01257167,  1.21357589],\n",
              "       [-0.0855487 ,  0.28271318],\n",
              "       [ 1.0918958 , -1.22993871],\n",
              "       [-0.18366908,  0.13726589],\n",
              "       [ 0.3069328 ,  0.04999751],\n",
              "       [-0.28178945, -0.29907601],\n",
              "       [ 0.50317355,  1.7080967 ],\n",
              "       [ 0.3069328 ,  0.4863394 ],\n",
              "       [ 0.01257167,  1.24266535],\n",
              "       [ 1.97497918, -1.37538601],\n",
              "       [-1.16487283, -1.11358087],\n",
              "       [-0.57615058, -1.5208333 ],\n",
              "       [ 0.3069328 , -0.53179168],\n",
              "       [-0.67427095, -1.5208333 ],\n",
              "       [-0.28178945,  0.51542886],\n",
              "       [ 0.99377543, -1.02631249],\n",
              "       [-1.06675246,  0.54451832],\n",
              "       [-0.28178945,  0.777234  ],\n",
              "       [ 0.40505317,  0.07908697],\n",
              "       [-1.65547471, -0.06636033],\n",
              "       [ 0.3069328 ,  0.04999751],\n",
              "       [-0.4780302 , -0.29907601],\n",
              "       [ 0.11069205,  1.853544  ],\n",
              "       [-0.96863208,  0.39907102],\n",
              "       [ 0.79753468,  0.51542886],\n",
              "       [-1.36111358, -0.35725492],\n",
              "       [-0.67427095,  1.38811264],\n",
              "       [ 1.19001618,  0.51542886],\n",
              "       [-1.75359508,  0.3408921 ],\n",
              "       [-0.57615058,  1.88263345],\n",
              "       [-1.75359508,  0.45724994],\n",
              "       [-0.28178945, -1.25902817],\n",
              "       [-0.87051171, -0.79359682],\n",
              "       [-1.65547471,  0.51542886],\n",
              "       [-0.28178945, -0.32816546],\n",
              "       [ 0.6994143 , -1.11358087],\n",
              "       [ 2.17121993, -0.82268628],\n",
              "       [-0.28178945,  0.60269724],\n",
              "       [-0.28178945, -0.76450736],\n",
              "       [-1.94983583, -0.76450736],\n",
              "       [ 0.40505317,  2.28988589],\n",
              "       [ 0.6994143 ,  0.25362372],\n",
              "       [ 0.20881242, -0.29907601],\n",
              "       [-1.36111358, -1.37538601],\n",
              "       [-0.4780302 , -0.56088114],\n",
              "       [ 0.40505317, -0.00818141],\n",
              "       [ 1.68061805,  1.73718616],\n",
              "       [ 1.19001618, -0.76450736],\n",
              "       [ 0.99377543,  1.4172021 ],\n",
              "       [-1.85171546,  0.16635535],\n",
              "       [ 0.3069328 ,  0.04999751],\n",
              "       [ 0.20881242,  0.02090805],\n",
              "       [-1.06675246,  0.51542886],\n",
              "       [-0.18366908,  1.62082832],\n",
              "       [-0.28178945,  0.13726589],\n",
              "       [-0.28178945, -0.35725492],\n",
              "       [-0.37990983,  1.30084427],\n",
              "       [-0.28178945,  0.07908697],\n",
              "       [ 2.17121993,  1.09721805],\n",
              "       [-1.26299321,  0.4863394 ],\n",
              "       [-1.06675246, -0.47361276],\n",
              "       [-1.65547471, -1.57901222],\n",
              "       [-0.0855487 ,  0.10817643],\n",
              "       [-0.28178945, -0.90995465],\n",
              "       [ 1.58249768, -0.00818141],\n",
              "       [ 0.89565505, -1.17175979],\n",
              "       [ 0.01257167, -0.5899706 ],\n",
              "       [-0.28178945,  2.23170697],\n",
              "       [-0.28178945,  0.19544481],\n",
              "       [ 0.3069328 ,  0.25362372],\n",
              "       [-0.0855487 , -1.08449141],\n",
              "       [ 2.17121993, -0.70632844],\n",
              "       [-0.96863208, -0.32816546],\n",
              "       [-1.45923396, -0.12453925],\n",
              "       [-1.45923396, -0.21180763],\n",
              "       [-0.77239133, -1.54992276],\n",
              "       [-1.26299321, -1.08449141],\n",
              "       [ 2.07309956,  0.36998156],\n",
              "       [ 1.97497918, -0.93904411],\n",
              "       [-1.94983583,  0.3408921 ],\n",
              "       [ 0.79753468, -0.32816546],\n",
              "       [-1.06675246, -1.54992276],\n",
              "       [ 1.97497918, -0.67723898],\n",
              "       [ 0.99377543, -1.17175979],\n",
              "       [ 1.0918958 , -0.15362871],\n",
              "       [ 1.19001618, -0.99722303],\n",
              "       [ 1.4843773 ,  0.04999751],\n",
              "       [ 0.20881242, -0.38634438],\n",
              "       [ 1.38625693,  1.27175481],\n",
              "       [ 2.07309956, -0.82268628],\n",
              "       [-0.18366908, -0.21180763],\n",
              "       [ 0.40505317,  0.98086021],\n",
              "       [-0.0855487 , -0.53179168],\n",
              "       [ 0.99377543, -1.08449141],\n",
              "       [ 2.07309956, -1.20084925],\n",
              "       [-0.0855487 ,  0.25362372],\n",
              "       [ 0.20881242, -0.26998655],\n",
              "       [ 1.0918958 ,  0.10817643],\n",
              "       [-1.26299321,  0.57360778],\n",
              "       [-0.77239133, -1.60810168],\n",
              "       [ 0.20881242,  0.22453427],\n",
              "       [-1.36111358,  0.39907102],\n",
              "       [ 0.01257167, -0.5899706 ],\n",
              "       [ 0.6994143 ,  1.76627562],\n",
              "       [-1.65547471,  0.04999751],\n",
              "       [-0.28178945, -1.37538601],\n",
              "       [-0.28178945, -1.46265438],\n",
              "       [-0.67427095,  0.54451832],\n",
              "       [-0.77239133,  0.28271318],\n",
              "       [ 0.89565505, -0.67723898],\n",
              "       [-1.06675246,  0.57360778],\n",
              "       [-0.28178945,  0.04999751],\n",
              "       [-0.77239133,  1.32993372],\n",
              "       [ 0.11069205,  1.50447048],\n",
              "       [-0.87051171,  0.36998156],\n",
              "       [ 0.3069328 , -0.21180763],\n",
              "       [ 0.99377543,  0.57360778],\n",
              "       [ 0.01257167, -0.32816546],\n",
              "       [-0.57615058, -1.5208333 ],\n",
              "       [ 0.11069205,  0.13726589],\n",
              "       [-1.16487283,  0.31180264],\n",
              "       [ 0.11069205,  1.03903913],\n",
              "       [-1.55735433, -0.4445233 ],\n",
              "       [-0.18366908,  1.38811264],\n",
              "       [ 2.17121993, -0.82268628],\n",
              "       [-0.96863208, -0.4445233 ],\n",
              "       [ 1.28813655,  1.853544  ],\n",
              "       [ 1.0918958 , -1.22993871],\n",
              "       [-0.18366908, -0.29907601],\n",
              "       [ 1.77873843,  0.98086021],\n",
              "       [-1.06675246, -0.35725492],\n",
              "       [-1.36111358, -1.11358087],\n",
              "       [-0.37990983,  0.04999751],\n",
              "       [-0.96863208, -1.11358087],\n",
              "       [ 1.19001618, -1.46265438],\n",
              "       [-0.4780302 , -0.85177573],\n",
              "       [-0.87051171, -0.67723898],\n",
              "       [-1.55735433, -1.5208333 ],\n",
              "       [-0.77239133,  1.88263345],\n",
              "       [ 0.89565505,  1.00994967],\n",
              "       [ 0.79753468,  0.25362372],\n",
              "       [ 0.99377543,  1.853544  ],\n",
              "       [ 0.89565505, -0.61906006],\n",
              "       [ 1.0918958 ,  2.05717021],\n",
              "       [-0.57615058,  0.86450237],\n",
              "       [ 0.01257167,  0.02090805],\n",
              "       [-1.85171546, -1.28811763],\n",
              "       [-0.0855487 ,  0.19544481],\n",
              "       [ 0.89565505, -0.56088114],\n",
              "       [ 0.20881242, -0.38634438],\n",
              "       [-0.18366908,  1.59173886],\n",
              "       [-1.75359508,  0.10817643],\n",
              "       [-0.67427095, -0.35725492],\n",
              "       [ 0.3069328 , -0.7354179 ],\n",
              "       [ 0.40505317, -0.47361276],\n",
              "       [-0.96863208, -0.96813357],\n",
              "       [ 0.11069205,  0.07908697],\n",
              "       [-0.96863208,  0.42816048],\n",
              "       [ 0.01257167, -0.56088114],\n",
              "       [ 0.89565505, -0.79359682],\n",
              "       [-0.0855487 ,  0.04999751],\n",
              "       [ 1.0918958 , -0.99722303],\n",
              "       [ 0.6994143 , -1.40447546],\n",
              "       [-0.28178945,  0.04999751],\n",
              "       [-1.36111358, -1.25902817],\n",
              "       [-1.16487283, -1.02631249],\n",
              "       [ 0.50317355,  1.82445454],\n",
              "       [ 0.11069205,  0.19544481],\n",
              "       [-0.57615058,  0.45724994]])"
            ]
          },
          "metadata": {},
          "execution_count": 19
        }
      ]
    },
    {
      "cell_type": "code",
      "source": [
        "from sklearn.linear_model import LogisticRegression\n",
        "classifier=LogisticRegression(solver='lbfgs')\n",
        "classifier.fit(xtrain,y_train)"
      ],
      "metadata": {
        "colab": {
          "base_uri": "https://localhost:8080/",
          "height": 51
        },
        "id": "pDrtiMcjAw8b",
        "outputId": "72e2bb40-96a4-4673-c710-715b8a208d25"
      },
      "execution_count": 21,
      "outputs": [
        {
          "output_type": "execute_result",
          "data": {
            "text/plain": [
              "LogisticRegression()"
            ],
            "text/html": [
              "<style>#sk-container-id-1 {color: black;background-color: white;}#sk-container-id-1 pre{padding: 0;}#sk-container-id-1 div.sk-toggleable {background-color: white;}#sk-container-id-1 label.sk-toggleable__label {cursor: pointer;display: block;width: 100%;margin-bottom: 0;padding: 0.3em;box-sizing: border-box;text-align: center;}#sk-container-id-1 label.sk-toggleable__label-arrow:before {content: \"▸\";float: left;margin-right: 0.25em;color: #696969;}#sk-container-id-1 label.sk-toggleable__label-arrow:hover:before {color: black;}#sk-container-id-1 div.sk-estimator:hover label.sk-toggleable__label-arrow:before {color: black;}#sk-container-id-1 div.sk-toggleable__content {max-height: 0;max-width: 0;overflow: hidden;text-align: left;background-color: #f0f8ff;}#sk-container-id-1 div.sk-toggleable__content pre {margin: 0.2em;color: black;border-radius: 0.25em;background-color: #f0f8ff;}#sk-container-id-1 input.sk-toggleable__control:checked~div.sk-toggleable__content {max-height: 200px;max-width: 100%;overflow: auto;}#sk-container-id-1 input.sk-toggleable__control:checked~label.sk-toggleable__label-arrow:before {content: \"▾\";}#sk-container-id-1 div.sk-estimator input.sk-toggleable__control:checked~label.sk-toggleable__label {background-color: #d4ebff;}#sk-container-id-1 div.sk-label input.sk-toggleable__control:checked~label.sk-toggleable__label {background-color: #d4ebff;}#sk-container-id-1 input.sk-hidden--visually {border: 0;clip: rect(1px 1px 1px 1px);clip: rect(1px, 1px, 1px, 1px);height: 1px;margin: -1px;overflow: hidden;padding: 0;position: absolute;width: 1px;}#sk-container-id-1 div.sk-estimator {font-family: monospace;background-color: #f0f8ff;border: 1px dotted black;border-radius: 0.25em;box-sizing: border-box;margin-bottom: 0.5em;}#sk-container-id-1 div.sk-estimator:hover {background-color: #d4ebff;}#sk-container-id-1 div.sk-parallel-item::after {content: \"\";width: 100%;border-bottom: 1px solid gray;flex-grow: 1;}#sk-container-id-1 div.sk-label:hover label.sk-toggleable__label {background-color: #d4ebff;}#sk-container-id-1 div.sk-serial::before {content: \"\";position: absolute;border-left: 1px solid gray;box-sizing: border-box;top: 0;bottom: 0;left: 50%;z-index: 0;}#sk-container-id-1 div.sk-serial {display: flex;flex-direction: column;align-items: center;background-color: white;padding-right: 0.2em;padding-left: 0.2em;position: relative;}#sk-container-id-1 div.sk-item {position: relative;z-index: 1;}#sk-container-id-1 div.sk-parallel {display: flex;align-items: stretch;justify-content: center;background-color: white;position: relative;}#sk-container-id-1 div.sk-item::before, #sk-container-id-1 div.sk-parallel-item::before {content: \"\";position: absolute;border-left: 1px solid gray;box-sizing: border-box;top: 0;bottom: 0;left: 50%;z-index: -1;}#sk-container-id-1 div.sk-parallel-item {display: flex;flex-direction: column;z-index: 1;position: relative;background-color: white;}#sk-container-id-1 div.sk-parallel-item:first-child::after {align-self: flex-end;width: 50%;}#sk-container-id-1 div.sk-parallel-item:last-child::after {align-self: flex-start;width: 50%;}#sk-container-id-1 div.sk-parallel-item:only-child::after {width: 0;}#sk-container-id-1 div.sk-dashed-wrapped {border: 1px dashed gray;margin: 0 0.4em 0.5em 0.4em;box-sizing: border-box;padding-bottom: 0.4em;background-color: white;}#sk-container-id-1 div.sk-label label {font-family: monospace;font-weight: bold;display: inline-block;line-height: 1.2em;}#sk-container-id-1 div.sk-label-container {text-align: center;}#sk-container-id-1 div.sk-container {/* jupyter's `normalize.less` sets `[hidden] { display: none; }` but bootstrap.min.css set `[hidden] { display: none !important; }` so we also need the `!important` here to be able to override the default hidden behavior on the sphinx rendered scikit-learn.org. See: https://github.com/scikit-learn/scikit-learn/issues/21755 */display: inline-block !important;position: relative;}#sk-container-id-1 div.sk-text-repr-fallback {display: none;}</style><div id=\"sk-container-id-1\" class=\"sk-top-container\"><div class=\"sk-text-repr-fallback\"><pre>LogisticRegression()</pre><b>In a Jupyter environment, please rerun this cell to show the HTML representation or trust the notebook. <br />On GitHub, the HTML representation is unable to render, please try loading this page with nbviewer.org.</b></div><div class=\"sk-container\" hidden><div class=\"sk-item\"><div class=\"sk-estimator sk-toggleable\"><input class=\"sk-toggleable__control sk-hidden--visually\" id=\"sk-estimator-id-1\" type=\"checkbox\" checked><label for=\"sk-estimator-id-1\" class=\"sk-toggleable__label sk-toggleable__label-arrow\">LogisticRegression</label><div class=\"sk-toggleable__content\"><pre>LogisticRegression()</pre></div></div></div></div></div>"
            ]
          },
          "metadata": {},
          "execution_count": 21
        }
      ]
    },
    {
      "cell_type": "code",
      "source": [
        "y_pred=classifier.predict(xtest)"
      ],
      "metadata": {
        "id": "DV_YZbtnBkqC"
      },
      "execution_count": 22,
      "outputs": []
    },
    {
      "cell_type": "code",
      "source": [
        "y_pred"
      ],
      "metadata": {
        "colab": {
          "base_uri": "https://localhost:8080/"
        },
        "id": "rB-bHIbxBs5i",
        "outputId": "66731d20-d88b-41e2-a4bb-e21f86514a6c"
      },
      "execution_count": 23,
      "outputs": [
        {
          "output_type": "execute_result",
          "data": {
            "text/plain": [
              "array([0, 1, 0, 1, 0, 0, 1, 0, 0, 0, 0, 1, 0, 0, 0, 0, 1, 1, 0, 1, 0, 0,\n",
              "       0, 1, 0, 0, 1, 0, 1, 0, 0, 0, 1, 0, 1, 0, 0, 0, 0, 0, 0, 0, 0, 0,\n",
              "       0, 1, 0, 0, 0, 0, 0, 1, 0, 0, 0, 0, 1, 0, 0, 0, 0, 0, 1, 0, 0, 0,\n",
              "       1, 1, 0, 0, 1, 0, 0, 0, 0, 0, 1, 1, 0, 0])"
            ]
          },
          "metadata": {},
          "execution_count": 23
        }
      ]
    },
    {
      "cell_type": "code",
      "source": [
        "from sklearn.metrics import confusion_matrix\n",
        "cm=confusion_matrix(y_test,y_pred)\n",
        "print('Confusion Matrix is\\n',cm)"
      ],
      "metadata": {
        "colab": {
          "base_uri": "https://localhost:8080/"
        },
        "id": "xqLFSEHNBvaT",
        "outputId": "f15962d6-73df-4ad1-c1d4-e113491f6b2a"
      },
      "execution_count": 24,
      "outputs": [
        {
          "output_type": "stream",
          "name": "stdout",
          "text": [
            "Confusion Matrix is\n",
            " [[50  2]\n",
            " [ 9 19]]\n"
          ]
        }
      ]
    },
    {
      "cell_type": "code",
      "source": [
        "from sklearn.metrics import accuracy_score\n",
        "print(\"Accuracy:\",accuracy_score(y_test,y_pred))"
      ],
      "metadata": {
        "colab": {
          "base_uri": "https://localhost:8080/"
        },
        "id": "9hTDXpB7CKol",
        "outputId": "740d6065-79cd-4b63-f11d-1ef41af063c2"
      },
      "execution_count": 25,
      "outputs": [
        {
          "output_type": "stream",
          "name": "stdout",
          "text": [
            "Accuracy: 0.8625\n"
          ]
        }
      ]
    }
  ]
}